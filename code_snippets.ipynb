{
 "cells": [
  {
   "cell_type": "code",
   "execution_count": 1,
   "id": "d42d6ad5",
   "metadata": {},
   "outputs": [],
   "source": [
    "import requests\n",
    "import sqlite3\n",
    "import pandas as pd"
   ]
  },
  {
   "cell_type": "code",
   "execution_count": 2,
   "id": "a994cf84",
   "metadata": {},
   "outputs": [],
   "source": [
    "host = \"http://localhost:5000/\""
   ]
  },
  {
   "cell_type": "markdown",
   "id": "8eec7ccf",
   "metadata": {},
   "source": [
    "http://localhost:5000/"
   ]
  },
  {
   "cell_type": "markdown",
   "id": "ee247507",
   "metadata": {},
   "source": [
    "#### GET"
   ]
  },
  {
   "cell_type": "code",
   "execution_count": null,
   "id": "0ea4dc11",
   "metadata": {},
   "outputs": [],
   "source": [
    "url = f\"{host}/books\"\n",
    "payload={}\n",
    "headers = {}\n",
    "response = requests.request(\"GET\", url, headers=headers, data=payload)\n",
    "print(response.status_code, '\\n', response.text)"
   ]
  },
  {
   "cell_type": "code",
   "execution_count": null,
   "id": "e27f0ec2",
   "metadata": {},
   "outputs": [],
   "source": [
    "url = f\"{host}/book/106\"\n",
    "payload={}\n",
    "headers = {}\n",
    "response = requests.request(\"GET\", url, headers=headers, data=payload)\n",
    "print(response.status_code, '\\n', response.text)"
   ]
  },
  {
   "cell_type": "markdown",
   "id": "8e6e7411",
   "metadata": {},
   "source": [
    "#### POST"
   ]
  },
  {
   "cell_type": "code",
   "execution_count": null,
   "id": "7a76f5bc",
   "metadata": {},
   "outputs": [],
   "source": [
    "book = input('Enter the novel name: ')\n",
    "book_page = input('Enter the novel page: ')\n",
    "author = input('Enter the author name: ')\n",
    "author_page = input('Enter the author page: ')\n",
    "country = input('Enter the country: ')\n",
    "country_page = input('Enter the country page: ')"
   ]
  },
  {
   "cell_type": "code",
   "execution_count": null,
   "id": "46fd9b50",
   "metadata": {
    "scrolled": true
   },
   "outputs": [],
   "source": [
    "url = f\"{host}/add_book\"\n",
    "payload={'الرواية': book,\n",
    "'صفحة_الرواية': book_page,\n",
    "'المؤلف': author,\n",
    "'صفحة_المؤلف': author_page,\n",
    "'البلد': country,\n",
    "'صفحة_البلد': country_page}\n",
    "files=[]\n",
    "headers = {}\n",
    "response = requests.request(\"POST\", url, headers=headers, data=payload, files=files)\n",
    "print(response.status_code, '\\n', response.text)"
   ]
  },
  {
   "cell_type": "code",
   "execution_count": null,
   "id": "46bc8be9",
   "metadata": {},
   "outputs": [],
   "source": [
    "cnx = sqlite3.connect('bestbooks.db')\n",
    "# temp_df = pd.read_sql_query(\"SELECT * FROM 'Best-Books'\", cnx)\n",
    "temp_df = pd.read_sql_query(\"SELECT الترتيب,الرواية,المؤلف,البلد FROM 'Best-Books'\", cnx)\n",
    "temp_df[-10:]"
   ]
  },
  {
   "cell_type": "markdown",
   "id": "e307d6e2",
   "metadata": {},
   "source": [
    "#### PUT"
   ]
  },
  {
   "cell_type": "code",
   "execution_count": null,
   "id": "8eb4932c",
   "metadata": {},
   "outputs": [],
   "source": [
    "order = int(input('Enter the novel order: '))\n",
    "book = input('Enter the novel name: ')\n",
    "book_page = input('Enter the novel page: ')\n",
    "author = input('Enter the author name: ')\n",
    "author_page = input('Enter the author page: ')\n",
    "country = input('Enter the country: ')\n",
    "country_page = input('Enter the country page: ')"
   ]
  },
  {
   "cell_type": "code",
   "execution_count": null,
   "id": "8e687952",
   "metadata": {},
   "outputs": [],
   "source": [
    "url = f\"{host}/update_book\"\n",
    "payload={'الترتيب': order,'الرواية': book,\n",
    "'صفحة_الرواية': book_page,\n",
    "'المؤلف': author,\n",
    "'صفحة_المؤلف': author_page,\n",
    "'البلد': country,\n",
    "'صفحة_البلد': country_page}\n",
    "files=[]\n",
    "headers = {}\n",
    "response = requests.request(\"PUT\", url, headers=headers, data=payload, files=files)\n",
    "print(response.status_code, '\\n', response.text)"
   ]
  },
  {
   "cell_type": "code",
   "execution_count": null,
   "id": "bff1f015",
   "metadata": {},
   "outputs": [],
   "source": [
    "cnx = sqlite3.connect('bestbooks.db')\n",
    "# temp_df = pd.read_sql_query(\"SELECT * FROM 'Best-Books'\", cnx)\n",
    "temp_df = pd.read_sql_query(\"SELECT الترتيب,الرواية,المؤلف,البلد FROM 'Best-Books'\", cnx)\n",
    "temp_df[-10:]"
   ]
  },
  {
   "cell_type": "markdown",
   "id": "a8675f05",
   "metadata": {},
   "source": [
    "#### DELETE"
   ]
  },
  {
   "cell_type": "code",
   "execution_count": null,
   "id": "158f8849",
   "metadata": {},
   "outputs": [],
   "source": [
    "bookorder_to_be_deleted = int(input('Enter the novel order: '))"
   ]
  },
  {
   "cell_type": "code",
   "execution_count": null,
   "id": "02f25279",
   "metadata": {},
   "outputs": [],
   "source": [
    "url = f\"{host}/remove_book/{bookorder_to_be_deleted}\"\n",
    "payload={}\n",
    "headers = {}\n",
    "response = requests.request(\"DELETE\", url, headers=headers, data=payload)\n",
    "print(response.status_code, '\\n', response.text)"
   ]
  },
  {
   "cell_type": "code",
   "execution_count": null,
   "id": "37cdc200",
   "metadata": {},
   "outputs": [],
   "source": [
    "cnx = sqlite3.connect('bestbooks.db')\n",
    "# temp_df = pd.read_sql_query(\"SELECT * FROM 'Best-Books'\", cnx)\n",
    "temp_df = pd.read_sql_query(\"SELECT الترتيب,الرواية,المؤلف,البلد FROM 'Best-Books'\", cnx)\n",
    "temp_df[-10:]"
   ]
  }
 ],
 "metadata": {
  "kernelspec": {
   "display_name": "Python 3 (ipykernel)",
   "language": "python",
   "name": "python3"
  },
  "language_info": {
   "codemirror_mode": {
    "name": "ipython",
    "version": 3
   },
   "file_extension": ".py",
   "mimetype": "text/x-python",
   "name": "python",
   "nbconvert_exporter": "python",
   "pygments_lexer": "ipython3",
   "version": "3.9.12"
  }
 },
 "nbformat": 4,
 "nbformat_minor": 5
}
